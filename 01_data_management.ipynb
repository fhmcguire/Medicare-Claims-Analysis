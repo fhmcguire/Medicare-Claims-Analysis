{
 "cells": [
  {
   "cell_type": "markdown",
   "id": "b3cf76ab",
   "metadata": {},
   "source": [
    "# Purpose\n",
    "The purpose of this file is to clean and manage data the 2008-2010 Medicare Claims Synthetic Public Use Files (SynPUFs)."
   ]
  },
  {
   "cell_type": "markdown",
   "id": "e120539d",
   "metadata": {},
   "source": [
    "# Setup\n",
    "First, we'll import the packages we'll need for data management tasks."
   ]
  },
  {
   "cell_type": "code",
   "execution_count": 3,
   "id": "952600b8",
   "metadata": {},
   "outputs": [],
   "source": [
    "import pandas as pd\n",
    "import numpy as np"
   ]
  },
  {
   "cell_type": "markdown",
   "id": "05b8b541",
   "metadata": {},
   "source": [
    "Next, we will load the Beneficiary Summary files into Python. Each file is separated by year (2008, 2009, 2010)."
   ]
  },
  {
   "cell_type": "code",
   "execution_count": 4,
   "id": "ddcba1e4",
   "metadata": {},
   "outputs": [],
   "source": [
    "# load the Beneficiary Summary files\n",
    "demo_08 = pd.read_csv(\"data/2008_Beneficiary_Summary_File_Sample_1.csv\")\n",
    "demo_09 = pd.read_csv(\"data/2009_Beneficiary_Summary_File_Sample_1.csv\")\n",
    "demo_10 = pd.read_csv(\"data/2010_Beneficiary_Summary_File_Sample_1.csv\")"
   ]
  },
  {
   "cell_type": "markdown",
   "id": "636fcac4",
   "metadata": {},
   "source": [
    "Then we will load in the Beneficiary Summary File **codebook**, which will be used to efficiently rename variable (column) names into names that are more easily readable."
   ]
  },
  {
   "cell_type": "code",
   "execution_count": 6,
   "id": "4322904e",
   "metadata": {},
   "outputs": [],
   "source": [
    "# load the codebook file\n",
    "codebook_demo = pd.read_excel(\"codebooks/Codebook_Beneficiary_Summary_File.xlsx\")"
   ]
  },
  {
   "cell_type": "code",
   "execution_count": 13,
   "id": "34835168",
   "metadata": {},
   "outputs": [],
   "source": [
    "# create a function to use values from the codebook to rename columns\n",
    "# we will use the 'old_name' column (original column names) to rename the columns in the dataframes\n",
    "def rename_columns(df, codebook):\n",
    "    # Create a mapping from old names to new names\n",
    "    name_mapping = dict(zip(codebook['old_name'], codebook['new_name']))\n",
    "    # Rename the columns in the dataframe\n",
    "    df.rename(columns=name_mapping, inplace=True)\n",
    "    return df\n",
    "\n",
    "\n",
    "# run the function on each data frame\n",
    "demo_08_rc = rename_columns(demo_08, codebook_demo)\n",
    "demo_09_rc = rename_columns(demo_09, codebook_demo)\n",
    "demo_10_rc = rename_columns(demo_10, codebook_demo)"
   ]
  },
  {
   "cell_type": "markdown",
   "id": "eb6531dd",
   "metadata": {},
   "source": [
    "Now we'll examine summary information about the datasets, including the number of rows/columns, the data types of each variable, and the first few rows of each dataset."
   ]
  },
  {
   "cell_type": "code",
   "execution_count": 4,
   "id": "08eef84b",
   "metadata": {},
   "outputs": [
    {
     "name": "stdout",
     "output_type": "stream",
     "text": [
      "Dataset name: 2008 Beneficiary Summary File\n",
      "Number of rows: 116352\n",
      "Number of columns: 32\n",
      "Variable (column) names: ['DESYNPUF_ID', 'BENE_BIRTH_DT', 'BENE_DEATH_DT', 'BENE_SEX_IDENT_CD', 'BENE_RACE_CD', 'BENE_ESRD_IND', 'SP_STATE_CODE', 'BENE_COUNTY_CD', 'BENE_HI_CVRAGE_TOT_MONS', 'BENE_SMI_CVRAGE_TOT_MONS', 'BENE_HMO_CVRAGE_TOT_MONS', 'PLAN_CVRG_MOS_NUM', 'SP_ALZHDMTA', 'SP_CHF', 'SP_CHRNKIDN', 'SP_CNCR', 'SP_COPD', 'SP_DEPRESSN', 'SP_DIABETES', 'SP_ISCHMCHT', 'SP_OSTEOPRS', 'SP_RA_OA', 'SP_STRKETIA', 'MEDREIMB_IP', 'BENRES_IP', 'PPPYMT_IP', 'MEDREIMB_OP', 'BENRES_OP', 'PPPYMT_OP', 'MEDREIMB_CAR', 'BENRES_CAR', 'PPPYMT_CAR']\n",
      "\n",
      "Dataset name: 2009 Beneficiary Summary File\n",
      "Number of rows: 114538\n",
      "Number of columns: 32\n",
      "Variable (column) names: ['DESYNPUF_ID', 'BENE_BIRTH_DT', 'BENE_DEATH_DT', 'BENE_SEX_IDENT_CD', 'BENE_RACE_CD', 'BENE_ESRD_IND', 'SP_STATE_CODE', 'BENE_COUNTY_CD', 'BENE_HI_CVRAGE_TOT_MONS', 'BENE_SMI_CVRAGE_TOT_MONS', 'BENE_HMO_CVRAGE_TOT_MONS', 'PLAN_CVRG_MOS_NUM', 'SP_ALZHDMTA', 'SP_CHF', 'SP_CHRNKIDN', 'SP_CNCR', 'SP_COPD', 'SP_DEPRESSN', 'SP_DIABETES', 'SP_ISCHMCHT', 'SP_OSTEOPRS', 'SP_RA_OA', 'SP_STRKETIA', 'MEDREIMB_IP', 'BENRES_IP', 'PPPYMT_IP', 'MEDREIMB_OP', 'BENRES_OP', 'PPPYMT_OP', 'MEDREIMB_CAR', 'BENRES_CAR', 'PPPYMT_CAR']\n",
      "\n",
      "Dataset name: 2010 Beneficiary Summary File\n",
      "Number of rows: 112754\n",
      "Number of columns: 32\n",
      "Variable (column) names: ['DESYNPUF_ID', 'BENE_BIRTH_DT', 'BENE_DEATH_DT', 'BENE_SEX_IDENT_CD', 'BENE_RACE_CD', 'BENE_ESRD_IND', 'SP_STATE_CODE', 'BENE_COUNTY_CD', 'BENE_HI_CVRAGE_TOT_MONS', 'BENE_SMI_CVRAGE_TOT_MONS', 'BENE_HMO_CVRAGE_TOT_MONS', 'PLAN_CVRG_MOS_NUM', 'SP_ALZHDMTA', 'SP_CHF', 'SP_CHRNKIDN', 'SP_CNCR', 'SP_COPD', 'SP_DEPRESSN', 'SP_DIABETES', 'SP_ISCHMCHT', 'SP_OSTEOPRS', 'SP_RA_OA', 'SP_STRKETIA', 'MEDREIMB_IP', 'BENRES_IP', 'PPPYMT_IP', 'MEDREIMB_OP', 'BENRES_OP', 'PPPYMT_OP', 'MEDREIMB_CAR', 'BENRES_CAR', 'PPPYMT_CAR']\n",
      "\n"
     ]
    }
   ],
   "source": [
    "# Create a data dictionary with the Beneficiary Summary File names\n",
    "datasets = {\n",
    "    \"2008 Beneficiary Summary File\": demo_08,\n",
    "    \"2009 Beneficiary Summary File\": demo_09,\n",
    "    \"2010 Beneficiary Summary File\": demo_10\n",
    "}\n",
    "\n",
    "# Loop through each Beneficary Summary file to summarize the number of rows/columns.\n",
    "for name, data in datasets.items():\n",
    "    rows, cols = data.shape\n",
    "    print(f\"Dataset name: {name}\")\n",
    "    print(f\"Number of rows: {rows}\")\n",
    "    print(f\"Number of columns: {cols}\")\n",
    "    print(\"Variable (column) names:\", data.columns.tolist())\n",
    "    print(\"\") # add an extra space between output to improve clarity"
   ]
  },
  {
   "cell_type": "markdown",
   "id": "91431da6",
   "metadata": {},
   "source": [
    "Now we want to combine the three Beneficiary Summary files into a single file."
   ]
  },
  {
   "cell_type": "code",
   "execution_count": 12,
   "id": "3449677e",
   "metadata": {},
   "outputs": [
    {
     "name": "stdout",
     "output_type": "stream",
     "text": [
      "year\n",
      "2008    116352\n",
      "Name: count, dtype: int64\n",
      "year\n",
      "2009    114538\n",
      "Name: count, dtype: int64\n",
      "year\n",
      "2010    112754\n",
      "Name: count, dtype: int64\n"
     ]
    }
   ],
   "source": [
    "# first, create an indicator for the year\n",
    "for name, data in datasets.items():\n",
    "    # extract the year value as the first 4 digits\n",
    "    data[\"year\"] = name[0:4]\n",
    "\n",
    "# check to make sure the values were assigned correctly in each data frame\n",
    "print(demo_08['year'].value_counts())\n",
    "print(demo_09['year'].value_counts())\n",
    "print(demo_10['year'].value_counts())"
   ]
  },
  {
   "cell_type": "markdown",
   "id": "40072434",
   "metadata": {},
   "source": [
    "Next, we'll examine the value counts for the categorical variables:\n",
    "*   Race/ethnicity\n",
    "*   Sex\n",
    "*   US State (FIPS code)"
   ]
  },
  {
   "cell_type": "code",
   "execution_count": 14,
   "id": "e23fb772",
   "metadata": {},
   "outputs": [
    {
     "name": "stdout",
     "output_type": "stream",
     "text": [
      "Race/ethnicity (BENE_RACE_CD):\n",
      "BENE_RACE_CD\n",
      "1    96349\n",
      "2    12343\n",
      "3     4931\n",
      "5     2729\n",
      "Name: count, dtype: int64\n",
      "\n",
      "\n",
      "Sex (BENE_SEX_IDENT_CD):\n",
      "BENE_SEX_IDENT_CD\n",
      "1    52005\n",
      "2    64347\n",
      "Name: count, dtype: int64\n",
      "\n",
      "\n",
      "US State FIPS Code (SP_STATE_CODE):\n",
      "SP_STATE_CODE\n",
      "1      2570\n",
      "2       244\n",
      "3      2325\n",
      "4      1851\n",
      "5     10224\n",
      "6      2012\n",
      "7      1473\n",
      "8       493\n",
      "9       310\n",
      "10     7745\n",
      "11     3012\n",
      "12      544\n",
      "13      675\n",
      "14     4277\n",
      "15     2497\n",
      "16     1317\n",
      "17     1142\n",
      "18     1864\n",
      "19     1715\n",
      "20      692\n",
      "21     1837\n",
      "22     2587\n",
      "23     4012\n",
      "24     1982\n",
      "25     1331\n",
      "26     2378\n",
      "27      429\n",
      "28      713\n",
      "29      842\n",
      "30      644\n",
      "31     3176\n",
      "32     1119\n",
      "33     6510\n",
      "34     3935\n",
      "35      420\n",
      "36     4329\n",
      "37     1663\n",
      "38     1725\n",
      "39     5199\n",
      "41      674\n",
      "42     1848\n",
      "43      419\n",
      "44     2803\n",
      "45     6703\n",
      "46      889\n",
      "47      374\n",
      "49     2895\n",
      "50     2282\n",
      "51     1152\n",
      "52     2371\n",
      "53      501\n",
      "54     1628\n",
      "Name: count, dtype: int64\n",
      "\n",
      "\n"
     ]
    }
   ],
   "source": [
    "categorical_vars = {\n",
    "    \"BENE_RACE_CD\": \"Race/ethnicity\",\n",
    "    \"BENE_SEX_IDENT_CD\": \"Sex\",\n",
    "    \"SP_STATE_CODE\": \"US State FIPS Code\"\n",
    "}\n",
    "\n",
    "for var, label in categorical_vars.items():\n",
    "    summary = demo_08[var].value_counts().sort_index()  # sort by category label\n",
    "    print(f\"{label} ({var}):\")\n",
    "    print(summary)\n",
    "    print(\"\\n\")"
   ]
  }
 ],
 "metadata": {
  "kernelspec": {
   "display_name": "env",
   "language": "python",
   "name": "python3"
  },
  "language_info": {
   "codemirror_mode": {
    "name": "ipython",
    "version": 3
   },
   "file_extension": ".py",
   "mimetype": "text/x-python",
   "name": "python",
   "nbconvert_exporter": "python",
   "pygments_lexer": "ipython3",
   "version": "3.10.11"
  }
 },
 "nbformat": 4,
 "nbformat_minor": 5
}
