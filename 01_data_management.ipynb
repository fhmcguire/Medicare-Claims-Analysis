{
 "cells": [
  {
   "cell_type": "markdown",
   "id": "b3cf76ab",
   "metadata": {},
   "source": [
    "# Purpose\n",
    "The purpose of this file is to clean and manage data the 2008-2010 Medicare Claims Synthetic Public Use Files (SynPUFs)."
   ]
  },
  {
   "cell_type": "markdown",
   "id": "e120539d",
   "metadata": {},
   "source": [
    "# Setup\n",
    "First, we'll import the packages we'll need for data management tasks."
   ]
  },
  {
   "cell_type": "code",
   "execution_count": 1,
   "id": "952600b8",
   "metadata": {},
   "outputs": [],
   "source": [
    "# import packages\n",
    "import pandas as pd\n",
    "import numpy as np\n",
    "import matplotlib.pyplot as plt\n",
    "import seaborn as sns"
   ]
  },
  {
   "cell_type": "markdown",
   "id": "77e56957",
   "metadata": {},
   "source": [
    "# Beneficiary Summary File\n",
    "\n",
    "## Load data and codebook"
   ]
  },
  {
   "cell_type": "markdown",
   "id": "05b8b541",
   "metadata": {},
   "source": [
    "Next, we will load the 2008 Beneficiary Summary file into Python."
   ]
  },
  {
   "cell_type": "code",
   "execution_count": 2,
   "id": "ddcba1e4",
   "metadata": {},
   "outputs": [],
   "source": [
    "# load the Beneficiary Summary files\n",
    "beneficiary = pd.read_csv(\"data/2008_Beneficiary_Summary_File_Sample_1.csv\")"
   ]
  },
  {
   "cell_type": "markdown",
   "id": "636fcac4",
   "metadata": {},
   "source": [
    "Then we will load in the Beneficiary Summary File **codebook**, which will be used to efficiently rename variable (column) names into names that are more easily readable."
   ]
  },
  {
   "cell_type": "code",
   "execution_count": 3,
   "id": "4322904e",
   "metadata": {},
   "outputs": [],
   "source": [
    "# load the codebook file\n",
    "codebook_beneficiary = pd.read_excel(\"codebooks/analysis_codebook.xlsx\",\n",
    "                                     sheet_name = \"Beneficiary\")"
   ]
  },
  {
   "cell_type": "code",
   "execution_count": 4,
   "id": "34835168",
   "metadata": {},
   "outputs": [],
   "source": [
    "# create a function to use values from the codebook to rename columns\n",
    "# we will use the 'old_name' column (original column names) to rename the columns in the dataframe\n",
    "def rename_columns(df, codebook):\n",
    "    # Create a mapping from old names to new names\n",
    "    name_mapping = dict(zip(codebook['old_name'], \n",
    "                            codebook['new_name']))\n",
    "    # Rename the columns in the dataframe\n",
    "    df.rename(columns=name_mapping, \n",
    "              inplace=True)\n",
    "    return df\n",
    "\n",
    "\n",
    "# run the function\n",
    "beneficiary = rename_columns(df = beneficiary, \n",
    "                             codebook = codebook_beneficiary)"
   ]
  },
  {
   "cell_type": "markdown",
   "id": "eb6531dd",
   "metadata": {},
   "source": [
    "Now we'll examine summary information about the datasets, including the number of rows/columns, the data types of each variable, and the first few rows of each dataset."
   ]
  },
  {
   "cell_type": "markdown",
   "id": "96a7094b",
   "metadata": {},
   "source": [
    "## Variable recoding"
   ]
  },
  {
   "cell_type": "markdown",
   "id": "1b8c6d9d",
   "metadata": {},
   "source": [
    "First, we'll merge the US state name and abbreviation by the US state FIPS code that was already included in the Beneficiary Summary Files."
   ]
  },
  {
   "cell_type": "code",
   "execution_count": 5,
   "id": "50ddf987",
   "metadata": {},
   "outputs": [],
   "source": [
    "# load the US State FIPS code file\n",
    "fips = pd.read_excel(\"codebooks/analysis_codebook.xlsx\",\n",
    "                     sheet_name = \"State FIPS Codes\")\n",
    "\n",
    "# merge the `fips` data frame with the merged data\n",
    "beneficiary = pd.merge(beneficiary, \n",
    "                       fips, \n",
    "                       how='left', \n",
    "                       left_on='state_code', \n",
    "                       right_on='state_code')\n"
   ]
  },
  {
   "cell_type": "code",
   "execution_count": 6,
   "id": "f1594c17",
   "metadata": {},
   "outputs": [
    {
     "name": "stdout",
     "output_type": "stream",
     "text": [
      "-- State Summary --\n",
      "              State Name  Count\n",
      "13               Alabama   2570\n",
      "46                Alaska    244\n",
      "20               Arizona   1851\n",
      "0               Arkansas  10224\n",
      "17            California   2012\n",
      "41              Colorado    493\n",
      "45           Connecticut    310\n",
      "1               Delaware   7745\n",
      "9   District of Columbia   3012\n",
      "39               Florida    544\n",
      "36               Georgia    675\n",
      "14                Hawaii   2497\n",
      "28                 Idaho   1317\n",
      "30              Illinois   1142\n",
      "19               Indiana   1864\n",
      "24                  Iowa   1715\n",
      "35                Kansas    692\n",
      "22              Kentucky   1837\n",
      "12             Louisiana   2587\n",
      "6                  Maine   4012\n",
      "18              Maryland   1982\n",
      "27         Massachusetts   1331\n",
      "15              Michigan   2378\n",
      "42             Minnesota    429\n",
      "34           Mississippi    713\n",
      "33              Missouri    842\n",
      "38               Montana    644\n",
      "8               Nebraska   3176\n",
      "31                Nevada   1119\n",
      "3          New Hampshire   6510\n",
      "7             New Jersey   3935\n",
      "43            New Mexico    420\n",
      "5               New York   4329\n",
      "25        North Carolina   1663\n",
      "23          North Dakota   1725\n",
      "4                   Ohio   5199\n",
      "37                Oregon    674\n",
      "21          Pennsylvania   1848\n",
      "11          Rhode Island   2803\n",
      "2         South Carolina   6703\n",
      "32          South Dakota    889\n",
      "44             Tennessee    374\n",
      "10                  Utah   2895\n",
      "16               Vermont   2282\n",
      "29              Virginia   1152\n",
      "40            Washington    501\n",
      "26         West Virginia   1628\n"
     ]
    }
   ],
   "source": [
    "# summarize the US states in the merged data in a table\n",
    "state_summary = beneficiary['state_name'].value_counts().reset_index()  \n",
    "state_summary.columns = ['State Name', \n",
    "                         'Count'] \n",
    "# sort the summary by count in descending order\n",
    "state_summary = state_summary.sort_values(by='State Name', \n",
    "                                          ascending=True)\n",
    "# display the state summary\n",
    "print(\"-- State Summary --\")\n",
    "print(state_summary)"
   ]
  },
  {
   "cell_type": "markdown",
   "id": "57d38ea2",
   "metadata": {},
   "source": [
    "Next, we'll recode birthdate variable to obtain an integer age value for the current year (2008, 2009, or 2010)."
   ]
  },
  {
   "cell_type": "code",
   "execution_count": 7,
   "id": "5236a4c7",
   "metadata": {},
   "outputs": [
    {
     "name": "stdout",
     "output_type": "stream",
     "text": [
      "-- Age Summary --\n",
      "count    116352.00\n",
      "mean         71.65\n",
      "std          12.50\n",
      "min          25.00\n",
      "25%          66.00\n",
      "50%          72.00\n",
      "75%          80.00\n",
      "max          99.00\n",
      "Name: age, dtype: float64\n",
      "\n",
      " -- First 10 Rows of the Age-related Columns --\n",
      "   birthdate  birth_year  age\n",
      "0   19230501        1923   85\n",
      "1   19430101        1943   65\n",
      "2   19360901        1936   72\n",
      "3   19410601        1941   67\n",
      "4   19360801        1936   72\n",
      "5   19431001        1943   65\n",
      "6   19220701        1922   86\n",
      "7   19350901        1935   73\n",
      "8   19760901        1976   32\n",
      "9   19381001        1938   70\n"
     ]
    }
   ],
   "source": [
    "# create a new variable named `age` that is the age of the beneficiary\n",
    "# first, extract the year from the birthdate column\n",
    "beneficiary['birth_year'] = beneficiary['birthdate'] // 10000\n",
    "# next, subtract the birth year from the year to get their current age (assuming the current year is 2008)\n",
    "beneficiary['age'] = 2008 - beneficiary['birth_year']\n",
    "\n",
    "# check that the values were assigned correctly\n",
    "print(\"-- Age Summary --\") \n",
    "print(beneficiary['age'].describe().round(2))\n",
    "\n",
    "# print the first 10 rows of the relevant columns\n",
    "print(\"\\n\", \"-- First 10 Rows of the Age-related Columns --\")\n",
    "print(beneficiary[['birthdate', 'birth_year', 'age']].head(10))"
   ]
  },
  {
   "cell_type": "markdown",
   "id": "3666f0b4",
   "metadata": {},
   "source": [
    "Next, we will make a categorical age group variable with the following levels:\n",
    "*   Age < 65\n",
    "*   Age 65-74\n",
    "*   Age 75-84\n",
    "*   Age 85+"
   ]
  },
  {
   "cell_type": "code",
   "execution_count": 8,
   "id": "4dc78211",
   "metadata": {},
   "outputs": [
    {
     "name": "stdout",
     "output_type": "stream",
     "text": [
      "\n",
      "-- Age Group Summary --\n",
      "           Count  Percent\n",
      "age_group                \n",
      "< 65       18242    15.68\n",
      "65-74      46070    39.60\n",
      "75-84      34332    29.51\n",
      "85+        17708    15.22\n"
     ]
    }
   ],
   "source": [
    "# Define ordered categories explicitly\n",
    "age_labels = ['< 65', '65-74', '75-84', '85+']\n",
    "\n",
    "# Create the age_group with labels as strings (not as pd.Categorical)\n",
    "beneficiary['age_group'] = pd.cut(beneficiary['age'], \n",
    "                                  bins=[0, 64, 74, 84, 100], \n",
    "                                  labels=age_labels, \n",
    "                                  right=False)\n",
    "\n",
    "# Explicitly convert age_group column to a categorical dtype with the right order\n",
    "beneficiary['age_group'] = beneficiary['age_group'].cat.set_categories(age_labels, ordered=True)\n",
    "\n",
    "# Now count without sorting, then sort_index() respects the ordered categories\n",
    "print(\"\\n-- Age Group Summary --\")\n",
    "age_group_counts = beneficiary['age_group'].value_counts(sort=False).sort_index()\n",
    "age_group_percent = (age_group_counts / age_group_counts.sum() * 100).round(2)\n",
    "age_group_summary = pd.DataFrame({'Count': age_group_counts, \n",
    "                                  'Percent': age_group_percent})\n",
    "print(age_group_summary)"
   ]
  },
  {
   "cell_type": "markdown",
   "id": "aaf24633",
   "metadata": {},
   "source": [
    "Now we will recode values of the race/ethnicity and sex into categorical format."
   ]
  },
  {
   "cell_type": "code",
   "execution_count": 9,
   "id": "2f64ec0d",
   "metadata": {},
   "outputs": [],
   "source": [
    "# Sex recoding\n",
    "beneficiary['sex'] = beneficiary['sex'].replace({1: 'Male', \n",
    "                                                 2: 'Female'}).astype('category')\n",
    "# Race/ethnicity recoding\n",
    "beneficiary['race'] = beneficiary['race'].replace({1: 'White', \n",
    "                                                   2: 'Black',\n",
    "                                                   3: 'Other race',\n",
    "                                                   5: 'Hispanic'}).astype('category')"
   ]
  },
  {
   "cell_type": "code",
   "execution_count": 10,
   "id": "59a21492",
   "metadata": {},
   "outputs": [
    {
     "name": "stdout",
     "output_type": "stream",
     "text": [
      "sex\n",
      "Female    64347\n",
      "Male      52005\n",
      "Name: count, dtype: int64 \n",
      "\n",
      " race\n",
      "White         96349\n",
      "Black         12343\n",
      "Other race     4931\n",
      "Hispanic       2729\n",
      "Name: count, dtype: int64\n"
     ]
    }
   ],
   "source": [
    "# Check that the new values are coded correctly\n",
    "print(beneficiary['sex'].value_counts(),\n",
    "      \"\\n\\n\",\n",
    "      beneficiary['race'].value_counts())"
   ]
  },
  {
   "cell_type": "markdown",
   "id": "8a5baa7b",
   "metadata": {},
   "source": [
    "Finally, we will recode the health condition columns so that the values have categorical values. For each, 1 = Yes and 2 = No."
   ]
  },
  {
   "cell_type": "code",
   "execution_count": 11,
   "id": "4876d9fe",
   "metadata": {},
   "outputs": [
    {
     "data": {
      "text/plain": [
       "['person_id',\n",
       " 'birthdate',\n",
       " 'deathdate',\n",
       " 'sex',\n",
       " 'race',\n",
       " 'end_stage_renal_disease',\n",
       " 'state_code',\n",
       " 'county_code',\n",
       " 'months_part_a_coverage',\n",
       " 'months_part_b_coverage',\n",
       " 'months_hmo_coverage',\n",
       " 'months_part_d_coverage',\n",
       " 'dementia',\n",
       " 'heart_failure',\n",
       " 'kidney_disease',\n",
       " 'cancer',\n",
       " 'copd',\n",
       " 'depression',\n",
       " 'diabetes',\n",
       " 'ischemic_heart_disease',\n",
       " 'osteoporosis',\n",
       " 'arthritis',\n",
       " 'stroke',\n",
       " 'annual_inpatient_reimbursement',\n",
       " 'annual_inpatient_responsibility',\n",
       " 'annual_inpatient_primary_payer_reimbursement',\n",
       " 'annual_outpatient_reimbursement',\n",
       " 'annual_outpatient_responsibility',\n",
       " 'annual_outpatient_primary_payer_reimbursement',\n",
       " 'annual_carrier_reimbursement',\n",
       " 'annual_carrier_responsibility',\n",
       " 'annual_carrier_primary_payer_responsibility',\n",
       " 'state_name',\n",
       " 'state_abbrev',\n",
       " 'birth_year',\n",
       " 'age',\n",
       " 'age_group']"
      ]
     },
     "execution_count": 11,
     "metadata": {},
     "output_type": "execute_result"
    }
   ],
   "source": [
    "# grab the column names from the merged data to see which conditions are available\n",
    "beneficiary.columns.tolist()"
   ]
  },
  {
   "cell_type": "code",
   "execution_count": 30,
   "id": "0b3b16d8",
   "metadata": {},
   "outputs": [
    {
     "name": "stdout",
     "output_type": "stream",
     "text": [
      "\n",
      "-- Conditions Summary --\n",
      "dementia\n",
      "No     93942\n",
      "Yes    22410\n",
      "Name: count, dtype: int64\n",
      "19.26% \n",
      "\n",
      "heart_failure\n",
      "No     83197\n",
      "Yes    33155\n",
      "Name: count, dtype: int64\n",
      "28.5% \n",
      "\n",
      "kidney_disease\n",
      "No     97666\n",
      "Yes    18686\n",
      "Name: count, dtype: int64\n",
      "16.06% \n",
      "\n",
      "cancer\n",
      "No     108937\n",
      "Yes      7415\n",
      "Name: count, dtype: int64\n",
      "6.37% \n",
      "\n",
      "copd\n",
      "No     100609\n",
      "Yes     15743\n",
      "Name: count, dtype: int64\n",
      "13.53% \n",
      "\n",
      "depression\n",
      "No     91512\n",
      "Yes    24840\n",
      "Name: count, dtype: int64\n",
      "21.35% \n",
      "\n",
      "diabetes\n",
      "No     72292\n",
      "Yes    44060\n",
      "Name: count, dtype: int64\n",
      "37.87% \n",
      "\n",
      "ischemic_heart_disease\n",
      "No     67410\n",
      "Yes    48942\n",
      "Name: count, dtype: int64\n",
      "42.06% \n",
      "\n",
      "osteoporosis\n",
      "No     96175\n",
      "Yes    20177\n",
      "Name: count, dtype: int64\n",
      "17.34% \n",
      "\n",
      "arthritis\n",
      "No     98436\n",
      "Yes    17916\n",
      "Name: count, dtype: int64\n",
      "15.4% \n",
      "\n",
      "stroke\n",
      "No     111129\n",
      "Yes      5223\n",
      "Name: count, dtype: int64\n",
      "4.49% \n",
      "\n"
     ]
    }
   ],
   "source": [
    "conditions = ['dementia', 'heart_failure', 'kidney_disease',\n",
    "              'cancer', 'copd', 'depression', \n",
    "              'diabetes', 'ischemic_heart_disease', 'osteoporosis',\n",
    "              'arthritis', 'stroke']\n",
    "\n",
    "for condition in conditions:\n",
    "    beneficiary[condition] = beneficiary[condition].replace({1: 'Yes',\n",
    "                                                             2: 'No'}).astype('category')\n",
    "# Check that the new values are coded correctly \n",
    "print(\"\\n-- Conditions Summary --\")\n",
    "# Loop through each condition to summarize the counts and percentages\n",
    "for condition in conditions:\n",
    "    counts = beneficiary[condition].value_counts()\n",
    "    print(counts)\n",
    "    percent = (counts.get(\"Yes\", 0) / counts.sum() * 100).round(2)\n",
    "    print(f\"{percent}%\", \"\\n\")\n"
   ]
  },
  {
   "cell_type": "markdown",
   "id": "c5456e76",
   "metadata": {},
   "source": [
    "# Inpatient Claims Data\n",
    "\n",
    "## Load the data and codebook"
   ]
  },
  {
   "cell_type": "code",
   "execution_count": 13,
   "id": "30c6d362",
   "metadata": {},
   "outputs": [],
   "source": [
    "# Load the inpatient claims file\n",
    "inpatient = pd.read_csv(\"data/2008_to_2010_Inpatient_Claims_Sample_1.csv\")"
   ]
  },
  {
   "cell_type": "code",
   "execution_count": 14,
   "id": "f10f747c",
   "metadata": {},
   "outputs": [],
   "source": [
    "codebook_inpatient = pd.read_excel(\"codebooks/analysis_codebook.xlsx\",\n",
    "                                   sheet_name=\"Inpatient\")"
   ]
  },
  {
   "cell_type": "code",
   "execution_count": 15,
   "id": "892a4a74",
   "metadata": {},
   "outputs": [
    {
     "name": "stdout",
     "output_type": "stream",
     "text": [
      "\n",
      "-- Inpatient Claims Columns --\n",
      "['person_id', 'claim_start', 'claim_end', 'claim_payment_amount', 'primary_payer_amount', 'deductible_amount', 'coinsurance_amount', 'blood_deductible_amount', 'inpatient_admission_date', 'inpatient_discharge_date', 'admitting_icd9_code', 'claim_utilization_day_count', 'icd9_diagnosis_1', 'icd9_diagnosis_2', 'icd9_diagnosis_3', 'icd9_diagnosis_4', 'icd9_diagnosis_5', 'icd9_diagnosis_6', 'icd9_diagnosis_7', 'icd9_diagnosis_8', 'icd9_diagnosis_9', 'icd9_diagnosis_10', 'icd9_procedure_1', 'icd9_procedure_2', 'icd9_procedure_3', 'icd9_procedure_4', 'icd9_procedure_5', 'icd9_procedure_6', 'hcpcs_1', 'hcpcs_2', 'hcpcs_3', 'hcpcs_4', 'hcpcs_5', 'hcpcs_6', 'hcpcs_7', 'hcpcs_8', 'hcpcs_9', 'hcpcs_10', 'hcpcs_11', 'hcpcs_12', 'hcpcs_13', 'hcpcs_14', 'hcpcs_15', 'hcpcs_16', 'hcpcs_17', 'hcpcs_18', 'hcpcs_19', 'hcpcs_20', 'hcpcs_21', 'hcpcs_22', 'hcpcs_23', 'hcpcs_24', 'hcpcs_25', 'hcpcs_26', 'hcpcs_27', 'hcpcs_28', 'hcpcs_29', 'hcpcs_30', 'hcpcs_31', 'hcpcs_32', 'hcpcs_33', 'hcpcs_34', 'hcpcs_35', 'hcpcs_36', 'hcpcs_37', 'hcpcs_38', 'hcpcs_39', 'hcpcs_40', 'hcpcs_41', 'hcpcs_42', 'hcpcs_43', 'hcpcs_44', 'hcpcs_45']\n"
     ]
    }
   ],
   "source": [
    "# rename the columns in the inpatient claims data using the codebook\n",
    "inpatient = rename_columns(df = inpatient, \n",
    "                           codebook = codebook_inpatient)\n",
    "\n",
    "# select only the variables listed in the codebook to be in the final inpatient data frame\n",
    "inpatient_columns = codebook_inpatient['new_name'].tolist()\n",
    "inpatient = inpatient[inpatient_columns]\n",
    "\n",
    "# find the column names in the inpatient claims file\n",
    "print(\"\\n-- Inpatient Claims Columns --\")\n",
    "print(inpatient.columns.tolist())"
   ]
  },
  {
   "cell_type": "markdown",
   "id": "ce330470",
   "metadata": {},
   "source": [
    "# Create analytic dataset\n",
    "\n",
    "For this analysis, we will seek to answer the following research question: \n",
    "\n",
    "*   **Natural language processing:**  Using natural language processing (NLP) methods, what are the most common clusters of inpatient procedure codes among hospitalized diabetic patients?\n",
    "*   **Subgroup analysis:** How do the NLP-identified procedure code clusters vary by age, sex, race, and comorbidity burden among diabetic patients?\n",
    "*   **Expenditure analysis:** What is the association between the NLP-identified procedure code clusters and total inpatient expenditures among diabetic patients?\n",
    "\n",
    "Prior to conducting analysis, we will limit the dataset to:\n",
    "*   Patients with diagnosed diabetes in the 2008 Beneficiary Summary File.\n",
    "*   Patients with inpatient hospitalization records.\n",
    "*   Inpatient hospitalization records in 2008."
   ]
  },
  {
   "cell_type": "code",
   "execution_count": 16,
   "id": "dc61bf36",
   "metadata": {},
   "outputs": [],
   "source": [
    "# Step 1: Limit the Beneficiary summary file to those with diagnosed diabetes\n",
    "diabetes_beneficiaries = beneficiary.query(\"diabetes == 'Yes'\").copy()"
   ]
  },
  {
   "cell_type": "code",
   "execution_count": 17,
   "id": "78634df4",
   "metadata": {},
   "outputs": [],
   "source": [
    "# Step 2: Limit the inpatient claims file to those with diagnosed diabetes\n",
    "# First, grab the person IDs of beneficiaries with diabetes\n",
    "diabetes_ids = diabetes_beneficiaries['person_id']\n",
    "\n",
    "# Merge the diabetes beneficiaries with the inpatient claims data\n",
    "diabetes_inpatient = inpatient[inpatient['person_id'].isin(diabetes_ids)].copy()"
   ]
  },
  {
   "cell_type": "code",
   "execution_count": 18,
   "id": "686be906",
   "metadata": {},
   "outputs": [
    {
     "name": "stdout",
     "output_type": "stream",
     "text": [
      "-- Claim Year Summaries -- \n",
      "\n",
      "claim_year_start\n",
      "2008.0    23023\n",
      "2009.0    17097\n",
      "2010.0     8099\n",
      "2007.0      198\n",
      "Name: count, dtype: int64\n",
      "\n",
      "\n",
      "claim_year_end\n",
      "2008.0    22920\n",
      "2009.0    17178\n",
      "2010.0     8319\n",
      "Name: count, dtype: int64\n"
     ]
    }
   ],
   "source": [
    "# Step 3: Limit the inpatient claims data to those with inpatient hospitalizations in 2008\n",
    "# create a new variable named `age` that is the age of the beneficiary\n",
    "diabetes_inpatient['claim_year_start'] = diabetes_inpatient['claim_start'] // 10000\n",
    "diabetes_inpatient['claim_year_end'] = diabetes_inpatient['claim_end'] // 10000\n",
    "\n",
    "# check that the values were assigned correctly\n",
    "print(\"-- Claim Year Summaries --\", \"\\n\") \n",
    "print(diabetes_inpatient['claim_year_start'].value_counts())\n",
    "print(\"\\n\")\n",
    "print(diabetes_inpatient['claim_year_end'].value_counts())"
   ]
  },
  {
   "cell_type": "code",
   "execution_count": 19,
   "id": "e826257b",
   "metadata": {},
   "outputs": [],
   "source": [
    "# Limit the inpatient claims data to those with inpatient hospitalizations in 2008\n",
    "diabetes_inpatient = diabetes_inpatient[(diabetes_inpatient['claim_year_start'] == 2008) | \n",
    "                                        (diabetes_inpatient['claim_year_end'] == 2008)]"
   ]
  },
  {
   "cell_type": "markdown",
   "id": "456a3e80",
   "metadata": {},
   "source": [
    "Finally, we will limit the Beneficiary Summary File to only include those with valid inpatient hospitalization claims in 2008. We will use the person_id records from `diabetes_inpatient` file to assist here."
   ]
  },
  {
   "cell_type": "code",
   "execution_count": 20,
   "id": "b84d9371",
   "metadata": {},
   "outputs": [],
   "source": [
    "# Extract the person IDs from the inpatient data\n",
    "diabetes_inpatient_ids = diabetes_inpatient['person_id']\n",
    "\n",
    "# Merge the diabetes beneficiaries with the inpatient claims data\n",
    "diabetes_beneficiaries = diabetes_beneficiaries[diabetes_beneficiaries['person_id'].\n",
    "                                            isin(diabetes_inpatient_ids)].copy()"
   ]
  },
  {
   "cell_type": "markdown",
   "id": "0eed51fc",
   "metadata": {},
   "source": [
    "## Save the analytic data files"
   ]
  },
  {
   "cell_type": "code",
   "execution_count": 21,
   "id": "e3be0ae4",
   "metadata": {},
   "outputs": [],
   "source": [
    "# Save the diabetes beneficiaries data to a CSV file\n",
    "diabetes_beneficiaries.to_csv(\"data/analysis_data/diabetes_beneficiaries.csv\", index=False)\n",
    "\n",
    "# Save the inpatient claims data to a CSV file\n",
    "diabetes_inpatient.to_csv(\"data/analysis_data/diabetes_inpatient.csv\", index=False)"
   ]
  },
  {
   "cell_type": "markdown",
   "id": "b16f925f",
   "metadata": {},
   "source": [
    "# Data exploration"
   ]
  },
  {
   "cell_type": "markdown",
   "id": "6d184859",
   "metadata": {},
   "source": [
    "Now we'll examine summary information about the datasets, including the number of rows/columns, the data types of each variable, and the first few rows of each dataset."
   ]
  },
  {
   "cell_type": "code",
   "execution_count": 22,
   "id": "a77da263",
   "metadata": {},
   "outputs": [
    {
     "name": "stdout",
     "output_type": "stream",
     "text": [
      "Dataset name: 2008 Beneficiary Summary File\n",
      "Number of rows: 12499\n",
      "Number of columns: 37\n",
      "Variable (column) names: ['person_id', 'birthdate', 'deathdate', 'sex', 'race', 'end_stage_renal_disease', 'state_code', 'county_code', 'months_part_a_coverage', 'months_part_b_coverage', 'months_hmo_coverage', 'months_part_d_coverage', 'dementia', 'heart_failure', 'kidney_disease', 'cancer', 'copd', 'depression', 'diabetes', 'ischemic_heart_disease', 'osteoporosis', 'arthritis', 'stroke', 'annual_inpatient_reimbursement', 'annual_inpatient_responsibility', 'annual_inpatient_primary_payer_reimbursement', 'annual_outpatient_reimbursement', 'annual_outpatient_responsibility', 'annual_outpatient_primary_payer_reimbursement', 'annual_carrier_reimbursement', 'annual_carrier_responsibility', 'annual_carrier_primary_payer_responsibility', 'state_name', 'state_abbrev', 'birth_year', 'age', 'age_group']\n",
      "\n",
      "Dataset name: 2008 Inpatient Claims for Diabetes Beneficiaries\n",
      "Number of rows: 23221\n",
      "Number of columns: 75\n",
      "Variable (column) names: ['person_id', 'claim_start', 'claim_end', 'claim_payment_amount', 'primary_payer_amount', 'deductible_amount', 'coinsurance_amount', 'blood_deductible_amount', 'inpatient_admission_date', 'inpatient_discharge_date', 'admitting_icd9_code', 'claim_utilization_day_count', 'icd9_diagnosis_1', 'icd9_diagnosis_2', 'icd9_diagnosis_3', 'icd9_diagnosis_4', 'icd9_diagnosis_5', 'icd9_diagnosis_6', 'icd9_diagnosis_7', 'icd9_diagnosis_8', 'icd9_diagnosis_9', 'icd9_diagnosis_10', 'icd9_procedure_1', 'icd9_procedure_2', 'icd9_procedure_3', 'icd9_procedure_4', 'icd9_procedure_5', 'icd9_procedure_6', 'hcpcs_1', 'hcpcs_2', 'hcpcs_3', 'hcpcs_4', 'hcpcs_5', 'hcpcs_6', 'hcpcs_7', 'hcpcs_8', 'hcpcs_9', 'hcpcs_10', 'hcpcs_11', 'hcpcs_12', 'hcpcs_13', 'hcpcs_14', 'hcpcs_15', 'hcpcs_16', 'hcpcs_17', 'hcpcs_18', 'hcpcs_19', 'hcpcs_20', 'hcpcs_21', 'hcpcs_22', 'hcpcs_23', 'hcpcs_24', 'hcpcs_25', 'hcpcs_26', 'hcpcs_27', 'hcpcs_28', 'hcpcs_29', 'hcpcs_30', 'hcpcs_31', 'hcpcs_32', 'hcpcs_33', 'hcpcs_34', 'hcpcs_35', 'hcpcs_36', 'hcpcs_37', 'hcpcs_38', 'hcpcs_39', 'hcpcs_40', 'hcpcs_41', 'hcpcs_42', 'hcpcs_43', 'hcpcs_44', 'hcpcs_45', 'claim_year_start', 'claim_year_end']\n",
      "\n"
     ]
    }
   ],
   "source": [
    "# Create a data dictionary with the Beneficiary Summary File name(s).\n",
    "datasets = {\n",
    "    \"2008 Beneficiary Summary File\": diabetes_beneficiaries,\n",
    "    \"2008 Inpatient Claims for Diabetes Beneficiaries\": diabetes_inpatient\n",
    "}\n",
    "\n",
    "# Loop through each Beneficary Summary file to summarize the number of rows/columns.\n",
    "for name, data in datasets.items():\n",
    "    rows, cols = data.shape\n",
    "    print(f\"Dataset name: {name}\")\n",
    "    print(f\"Number of rows: {rows}\")\n",
    "    print(f\"Number of columns: {cols}\")\n",
    "    print(\"Variable (column) names:\", data.columns.tolist())\n",
    "    print(\"\") # add an extra space between output to improve clarity"
   ]
  },
  {
   "cell_type": "code",
   "execution_count": 23,
   "id": "f9bbb2db",
   "metadata": {},
   "outputs": [
    {
     "name": "stdout",
     "output_type": "stream",
     "text": [
      "\n",
      "-- Summary of Diabetes Beneficiaries --\n",
      "\n",
      "Summary of race:\n",
      "            Count  Percent\n",
      "race                      \n",
      "White       10551    84.41\n",
      "Black        1326    10.61\n",
      "Other race    352     2.82\n",
      "Hispanic      270     2.16\n",
      "\n",
      "Summary of sex:\n",
      "        Count  Percent\n",
      "sex                   \n",
      "Female   7119    56.96\n",
      "Male     5380    43.04\n",
      "\n",
      "Summary of dementia:\n",
      "          Count  Percent\n",
      "dementia                \n",
      "Yes        6923    55.39\n",
      "No         5576    44.61\n",
      "\n",
      "Summary of heart_failure:\n",
      "               Count  Percent\n",
      "heart_failure                \n",
      "Yes             9932    79.46\n",
      "No              2567    20.54\n",
      "\n",
      "Summary of kidney_disease:\n",
      "                Count  Percent\n",
      "kidney_disease                \n",
      "Yes              7990    63.93\n",
      "No               4509    36.07\n",
      "\n",
      "Summary of cancer:\n",
      "        Count  Percent\n",
      "cancer                \n",
      "No       9904    79.24\n",
      "Yes      2595    20.76\n",
      "\n",
      "Summary of copd:\n",
      "      Count  Percent\n",
      "copd                \n",
      "Yes    6912     55.3\n",
      "No     5587     44.7\n",
      "\n",
      "Summary of depression:\n",
      "            Count  Percent\n",
      "depression                \n",
      "Yes          6773    54.19\n",
      "No           5726    45.81\n",
      "\n",
      "Summary of ischemic_heart_disease:\n",
      "                        Count  Percent\n",
      "ischemic_heart_disease                \n",
      "Yes                     11257    90.06\n",
      "No                       1242     9.94\n",
      "\n",
      "Summary of osteoporosis:\n",
      "              Count  Percent\n",
      "osteoporosis                \n",
      "No             8016    64.13\n",
      "Yes            4483    35.87\n",
      "\n",
      "Summary of arthritis:\n",
      "           Count  Percent\n",
      "arthritis                \n",
      "No          7567    60.54\n",
      "Yes         4932    39.46\n",
      "\n",
      "Summary of stroke:\n",
      "        Count  Percent\n",
      "stroke                \n",
      "No       9824     78.6\n",
      "Yes      2675     21.4\n"
     ]
    }
   ],
   "source": [
    "# Generate univariate summaries for the diabetes beneficiaries\n",
    "# Include race, sex, and all of the conditions except diabetes\n",
    "variables = ['race', 'sex'] + [cond for cond in conditions if cond != 'diabetes']\n",
    "\n",
    "# Step 3: Create a summary table for each variable\n",
    "print(\"\\n-- Summary of Diabetes Beneficiaries --\")\n",
    "for var in variables:\n",
    "    print(f\"\\nSummary of {var}:\")\n",
    "    counts = diabetes_beneficiaries[var].value_counts(dropna=False)\n",
    "    percent = (counts / counts.sum() * 100).round(2)\n",
    "    summary = pd.DataFrame({'Count': counts, 'Percent': percent})\n",
    "    print(summary)"
   ]
  },
  {
   "cell_type": "markdown",
   "id": "99e1be50",
   "metadata": {},
   "source": [
    "Examine the age distribution of the diabetic patient sample."
   ]
  },
  {
   "cell_type": "code",
   "execution_count": 24,
   "id": "62eb1e2a",
   "metadata": {},
   "outputs": [
    {
     "data": {
      "image/png": "[encoded data removed]",
      "text/plain": [
       "<Figure size 900x500 with 1 Axes>"
      ]
     },
     "metadata": {},
     "output_type": "display_data"
    }
   ],
   "source": [
    "# Examine the age distribution of beneficiaries with diabetes\n",
    "plt.figure(figsize=(9, 5))\n",
    "sns.histplot(data=diabetes_beneficiaries, \n",
    "             x='age', \n",
    "             bins=20, \n",
    "             kde=True, \n",
    "             color='lightgreen')\n",
    "plt.title(\"Age Distribution of Medicare Beneficiaries with Diabetes & Inpatient Claims\")\n",
    "plt.xlabel(\"Age\")\n",
    "plt.ylabel(\"Count\")\n",
    "plt.xlim(20, 105)\n",
    "plt.show()"
   ]
  },
  {
   "cell_type": "markdown",
   "id": "23b2d0d8",
   "metadata": {},
   "source": [
    "Now we will examine comorbid health conditions (e.g., diabetes, cancer) among patients with diabetes in the Beneficiary Summary Files by sex, race, and age group."
   ]
  },
  {
   "cell_type": "code",
   "execution_count": 25,
   "id": "611da8fb",
   "metadata": {},
   "outputs": [],
   "source": [
    "# First, create a function to get the row percentages of a crosstab\n",
    "def get_row_percent_crosstab(df, col_vars, row_var):\n",
    "    # Create the crosstab\n",
    "    crosstab = pd.crosstab(df[row_var], df[col_vars])\n",
    "\n",
    "    # Calculate row percentages\n",
    "    row_percentages = crosstab.div(crosstab.sum(axis=1), axis=0) * 100\n",
    "\n",
    "    # Add total percentage column (should always be 100, but nice for validation)\n",
    "    row_percentages['Total'] = row_percentages.sum(axis=1)\n",
    "\n",
    "    return row_percentages"
   ]
  },
  {
   "cell_type": "code",
   "execution_count": 26,
   "id": "29d95e3c",
   "metadata": {},
   "outputs": [],
   "source": [
    "# Next, create a function to generate and print row-percentage crosstabs for each \n",
    "# condition against a specified row variable\n",
    "def generate_and_print_crosstabs(df, col_vars, row_var):\n",
    "    \"\"\"\n",
    "    Generate and print row-percentage crosstabs for each condition against a specified row variable.\n",
    "    \n",
    "    Parameters:\n",
    "    - df: DataFrame containing the data\n",
    "    - col_vars: list of variables to use as the columns in the crosstab (e.g., conditions)\n",
    "    - row_var: the variable to use as rows in the crosstab (e.g., 'race', 'sex', etc.)\n",
    "    \n",
    "    Returns:\n",
    "    - Dictionary of crosstab tables\n",
    "    \"\"\"\n",
    "    results = {}\n",
    "    for var in col_vars:\n",
    "        results[var] = get_row_percent_crosstab(df = df,\n",
    "                                                col_vars = var,\n",
    "                                                row_var=row_var)\n",
    "        print(f\"\\n--- {var.upper()} Crosstab ---\")\n",
    "        print(results[var])"
   ]
  },
  {
   "cell_type": "code",
   "execution_count": 27,
   "id": "284163ad",
   "metadata": {},
   "outputs": [
    {
     "name": "stdout",
     "output_type": "stream",
     "text": [
      "\n",
      "--- DEMENTIA Crosstab ---\n",
      "dementia         No        Yes  Total\n",
      "sex                                  \n",
      "Female    44.472538  55.527462  100.0\n",
      "Male      44.795539  55.204461  100.0\n",
      "\n",
      "--- HEART_FAILURE Crosstab ---\n",
      "heart_failure         No        Yes  Total\n",
      "sex                                       \n",
      "Female         20.915859  79.084141  100.0\n",
      "Male           20.037175  79.962825  100.0\n",
      "\n",
      "--- KIDNEY_DISEASE Crosstab ---\n",
      "kidney_disease         No        Yes  Total\n",
      "sex                                        \n",
      "Female          36.451749  63.548251  100.0\n",
      "Male            35.576208  64.423792  100.0\n",
      "\n",
      "--- CANCER Crosstab ---\n",
      "cancer         No        Yes  Total\n",
      "sex                                \n",
      "Female  79.575783  20.424217  100.0\n",
      "Male    78.791822  21.208178  100.0\n",
      "\n",
      "--- COPD Crosstab ---\n",
      "copd           No        Yes  Total\n",
      "sex                                \n",
      "Female  44.697289  55.302711  100.0\n",
      "Male    44.702602  55.297398  100.0\n",
      "\n",
      "--- DEPRESSION Crosstab ---\n",
      "depression         No        Yes  Total\n",
      "sex                                    \n",
      "Female      45.483916  54.516084  100.0\n",
      "Male        46.245353  53.754647  100.0\n",
      "\n",
      "--- DIABETES Crosstab ---\n",
      "diabetes    Yes  Total\n",
      "sex                   \n",
      "Female    100.0  100.0\n",
      "Male      100.0  100.0\n",
      "\n",
      "--- ISCHEMIC_HEART_DISEASE Crosstab ---\n",
      "ischemic_heart_disease         No        Yes  Total\n",
      "sex                                                \n",
      "Female                  10.310437  89.689563  100.0\n",
      "Male                     9.442379  90.557621  100.0\n",
      "\n",
      "--- OSTEOPOROSIS Crosstab ---\n",
      "osteoporosis         No        Yes  Total\n",
      "sex                                      \n",
      "Female        63.857283  36.142717  100.0\n",
      "Male          64.498141  35.501859  100.0\n",
      "\n",
      "--- ARTHRITIS Crosstab ---\n",
      "arthritis         No        Yes  Total\n",
      "sex                                   \n",
      "Female     60.050569  39.949431  100.0\n",
      "Male       61.189591  38.810409  100.0\n",
      "\n",
      "--- STROKE Crosstab ---\n",
      "stroke         No        Yes  Total\n",
      "sex                                \n",
      "Female  78.985813  21.014187  100.0\n",
      "Male    78.085502  21.914498  100.0\n"
     ]
    }
   ],
   "source": [
    "# Summarize comorbidities by sex\n",
    "generate_and_print_crosstabs(df = diabetes_beneficiaries,\n",
    "                             col_vars = conditions,\n",
    "                             row_var = 'sex')"
   ]
  },
  {
   "cell_type": "code",
   "execution_count": 28,
   "id": "b54e7d08",
   "metadata": {},
   "outputs": [
    {
     "name": "stdout",
     "output_type": "stream",
     "text": [
      "\n",
      "--- DEMENTIA Crosstab ---\n",
      "dementia           No        Yes  Total\n",
      "race                                   \n",
      "Black       44.042232  55.957768  100.0\n",
      "Hispanic    40.740741  59.259259  100.0\n",
      "Other race  42.045455  57.954545  100.0\n",
      "White       44.867785  55.132215  100.0\n",
      "\n",
      "--- HEART_FAILURE Crosstab ---\n",
      "heart_failure         No        Yes  Total\n",
      "race                                      \n",
      "Black          18.325792  81.674208  100.0\n",
      "Hispanic       20.740741  79.259259  100.0\n",
      "Other race     22.727273  77.272727  100.0\n",
      "White          20.737371  79.262629  100.0\n",
      "\n",
      "--- KIDNEY_DISEASE Crosstab ---\n",
      "kidney_disease         No        Yes  Total\n",
      "race                                       \n",
      "Black           33.182504  66.817496  100.0\n",
      "Hispanic        37.407407  62.592593  100.0\n",
      "Other race      36.079545  63.920455  100.0\n",
      "White           36.404132  63.595868  100.0\n",
      "\n",
      "--- CANCER Crosstab ---\n",
      "cancer             No        Yes  Total\n",
      "race                                   \n",
      "Black       78.054299  21.945701  100.0\n",
      "Hispanic    81.111111  18.888889  100.0\n",
      "Other race  77.272727  22.727273  100.0\n",
      "White       79.404796  20.595204  100.0\n",
      "\n",
      "--- COPD Crosstab ---\n",
      "copd               No        Yes  Total\n",
      "race                                   \n",
      "Black       43.966817  56.033183  100.0\n",
      "Hispanic    43.333333  56.666667  100.0\n",
      "Other race  38.352273  61.647727  100.0\n",
      "White       45.038385  54.961615  100.0\n",
      "\n",
      "--- DEPRESSION Crosstab ---\n",
      "depression         No        Yes  Total\n",
      "race                                   \n",
      "Black       44.193062  55.806938  100.0\n",
      "Hispanic    41.481481  58.518519  100.0\n",
      "Other race  44.318182  55.681818  100.0\n",
      "White       46.175718  53.824282  100.0\n",
      "\n",
      "--- DIABETES Crosstab ---\n",
      "diabetes      Yes  Total\n",
      "race                    \n",
      "Black       100.0  100.0\n",
      "Hispanic    100.0  100.0\n",
      "Other race  100.0  100.0\n",
      "White       100.0  100.0\n",
      "\n",
      "--- ISCHEMIC_HEART_DISEASE Crosstab ---\n",
      "ischemic_heart_disease         No        Yes  Total\n",
      "race                                               \n",
      "Black                    8.898944  91.101056  100.0\n",
      "Hispanic                10.740741  89.259259  100.0\n",
      "Other race              11.931818  88.068182  100.0\n",
      "White                    9.980097  90.019903  100.0\n",
      "\n",
      "--- OSTEOPOROSIS Crosstab ---\n",
      "osteoporosis         No        Yes  Total\n",
      "race                                     \n",
      "Black         64.781297  35.218703  100.0\n",
      "Hispanic      67.037037  32.962963  100.0\n",
      "Other race    63.920455  36.079545  100.0\n",
      "White         63.984456  36.015544  100.0\n",
      "\n",
      "--- ARTHRITIS Crosstab ---\n",
      "arthritis          No        Yes  Total\n",
      "race                                   \n",
      "Black       61.990950  38.009050  100.0\n",
      "Hispanic    61.481481  38.518519  100.0\n",
      "Other race  64.204545  35.795455  100.0\n",
      "White       60.212302  39.787698  100.0\n",
      "\n",
      "--- STROKE Crosstab ---\n",
      "stroke             No        Yes  Total\n",
      "race                                   \n",
      "Black       75.716440  24.283560  100.0\n",
      "Hispanic    78.148148  21.851852  100.0\n",
      "Other race  81.250000  18.750000  100.0\n",
      "White       78.883518  21.116482  100.0\n"
     ]
    }
   ],
   "source": [
    "# Summarize comorbidities by race\n",
    "generate_and_print_crosstabs(df = diabetes_beneficiaries,\n",
    "                             col_vars = conditions,\n",
    "                             row_var = 'race')"
   ]
  },
  {
   "cell_type": "code",
   "execution_count": 29,
   "id": "4b7d6585",
   "metadata": {},
   "outputs": [
    {
     "name": "stdout",
     "output_type": "stream",
     "text": [
      "\n",
      "--- DEMENTIA Crosstab ---\n",
      "dementia          No        Yes  Total\n",
      "age_group                             \n",
      "< 65       42.130751  57.869249  100.0\n",
      "65-74      48.344557  51.655443  100.0\n",
      "75-84      44.071146  55.928854  100.0\n",
      "85+        42.487597  57.512403  100.0\n",
      "\n",
      "--- HEART_FAILURE Crosstab ---\n",
      "heart_failure         No        Yes  Total\n",
      "age_group                                 \n",
      "< 65           20.484262  79.515738  100.0\n",
      "65-74          23.148148  76.851852  100.0\n",
      "75-84          19.812253  80.187747  100.0\n",
      "85+            18.320340  81.679660  100.0\n",
      "\n",
      "--- KIDNEY_DISEASE Crosstab ---\n",
      "kidney_disease         No        Yes  Total\n",
      "age_group                                  \n",
      "< 65            35.108959  64.891041  100.0\n",
      "65-74           39.702581  60.297419  100.0\n",
      "75-84           34.955534  65.044466  100.0\n",
      "85+             33.805811  66.194189  100.0\n",
      "\n",
      "--- CANCER Crosstab ---\n",
      "cancer            No        Yes  Total\n",
      "age_group                             \n",
      "< 65       79.225182  20.774818  100.0\n",
      "65-74      78.703704  21.296296  100.0\n",
      "75-84      79.125494  20.874506  100.0\n",
      "85+        80.085046  19.914954  100.0\n",
      "\n",
      "--- COPD Crosstab ---\n",
      "copd              No        Yes  Total\n",
      "age_group                             \n",
      "< 65       43.631961  56.368039  100.0\n",
      "65-74      46.829405  53.170595  100.0\n",
      "75-84      44.515810  55.484190  100.0\n",
      "85+        43.054571  56.945429  100.0\n",
      "\n",
      "--- DEPRESSION Crosstab ---\n",
      "depression         No        Yes  Total\n",
      "age_group                              \n",
      "< 65        41.404358  58.595642  100.0\n",
      "65-74       47.727273  52.272727  100.0\n",
      "75-84       46.665020  53.334980  100.0\n",
      "85+         45.393338  54.606662  100.0\n",
      "\n",
      "--- DIABETES Crosstab ---\n",
      "diabetes     Yes  Total\n",
      "age_group              \n",
      "< 65       100.0  100.0\n",
      "65-74      100.0  100.0\n",
      "75-84      100.0  100.0\n",
      "85+        100.0  100.0\n",
      "\n",
      "--- ISCHEMIC_HEART_DISEASE Crosstab ---\n",
      "ischemic_heart_disease         No        Yes  Total\n",
      "age_group                                          \n",
      "< 65                     9.636804  90.363196  100.0\n",
      "65-74                   11.139169  88.860831  100.0\n",
      "75-84                   10.054348  89.945652  100.0\n",
      "85+                      8.469171  91.530829  100.0\n",
      "\n",
      "--- OSTEOPOROSIS Crosstab ---\n",
      "osteoporosis         No        Yes  Total\n",
      "age_group                                \n",
      "< 65          64.116223  35.883777  100.0\n",
      "65-74         63.468013  36.531987  100.0\n",
      "75-84         65.316206  34.683794  100.0\n",
      "85+           63.288448  36.711552  100.0\n",
      "\n",
      "--- ARTHRITIS Crosstab ---\n",
      "arthritis         No        Yes  Total\n",
      "age_group                             \n",
      "< 65       62.663438  37.336562  100.0\n",
      "65-74      60.914703  39.085297  100.0\n",
      "75-84      59.881423  40.118577  100.0\n",
      "85+        59.461375  40.538625  100.0\n",
      "\n",
      "--- STROKE Crosstab ---\n",
      "stroke            No        Yes  Total\n",
      "age_group                             \n",
      "< 65       79.079903  20.920097  100.0\n",
      "65-74      79.741863  20.258137  100.0\n",
      "75-84      77.964427  22.035573  100.0\n",
      "85+        77.710843  22.289157  100.0\n"
     ]
    }
   ],
   "source": [
    "# Summarize comorbidities by age group\n",
    "generate_and_print_crosstabs(df = diabetes_beneficiaries,\n",
    "                             col_vars = conditions,\n",
    "                             row_var = 'age_group')"
   ]
  }
 ],
 "metadata": {
  "kernelspec": {
   "display_name": "env",
   "language": "python",
   "name": "python3"
  },
  "language_info": {
   "codemirror_mode": {
    "name": "ipython",
    "version": 3
   },
   "file_extension": ".py",
   "mimetype": "text/x-python",
   "name": "python",
   "nbconvert_exporter": "python",
   "pygments_lexer": "ipython3",
   "version": "3.10.11"
  }
 },
 "nbformat": 4,
 "nbformat_minor": 5
}
