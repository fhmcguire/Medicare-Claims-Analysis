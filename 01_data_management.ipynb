{
 "cells": [
  {
   "cell_type": "markdown",
   "id": "b3cf76ab",
   "metadata": {},
   "source": [
    "# Purpose\n",
    "The purpose of this file is to clean and manage data the 2008-2010 Medicare Claims Synthetic Public Use Files (SynPUFs)."
   ]
  },
  {
   "cell_type": "markdown",
   "id": "e120539d",
   "metadata": {},
   "source": [
    "# Setup\n",
    "First, we'll import the packages we'll need for data management tasks."
   ]
  },
  {
   "cell_type": "code",
   "execution_count": 102,
   "id": "952600b8",
   "metadata": {},
   "outputs": [],
   "source": [
    "# import packages\n",
    "import pandas as pd\n",
    "import numpy as np\n",
    "import matplotlib.pyplot as plt\n",
    "import seaborn as sns"
   ]
  },
  {
   "cell_type": "markdown",
   "id": "77e56957",
   "metadata": {},
   "source": [
    "# Load data and codebook"
   ]
  },
  {
   "cell_type": "markdown",
   "id": "05b8b541",
   "metadata": {},
   "source": [
    "Next, we will load the Beneficiary Summary files into Python. Each file is separated by year (2008, 2009, 2010)."
   ]
  },
  {
   "cell_type": "code",
   "execution_count": 3,
   "id": "ddcba1e4",
   "metadata": {},
   "outputs": [],
   "source": [
    "# load the Beneficiary Summary files\n",
    "demo_08 = pd.read_csv(\"data/2008_Beneficiary_Summary_File_Sample_1.csv\")\n",
    "demo_09 = pd.read_csv(\"data/2009_Beneficiary_Summary_File_Sample_1.csv\")\n",
    "demo_10 = pd.read_csv(\"data/2010_Beneficiary_Summary_File_Sample_1.csv\")"
   ]
  },
  {
   "cell_type": "markdown",
   "id": "636fcac4",
   "metadata": {},
   "source": [
    "Then we will load in the Beneficiary Summary File **codebook**, which will be used to efficiently rename variable (column) names into names that are more easily readable."
   ]
  },
  {
   "cell_type": "code",
   "execution_count": 4,
   "id": "4322904e",
   "metadata": {},
   "outputs": [],
   "source": [
    "# load the codebook file\n",
    "codebook_demo = pd.read_excel(\"codebooks/Codebook_Beneficiary_Summary_File.xlsx\",\n",
    "                              sheet_name = \"Codebook\")"
   ]
  },
  {
   "cell_type": "code",
   "execution_count": 5,
   "id": "34835168",
   "metadata": {},
   "outputs": [],
   "source": [
    "# create a function to use values from the codebook to rename columns\n",
    "# we will use the 'old_name' column (original column names) to rename the columns in the dataframes\n",
    "def rename_columns(df, codebook):\n",
    "    # Create a mapping from old names to new names\n",
    "    name_mapping = dict(zip(codebook['old_name'], \n",
    "                            codebook['new_name']))\n",
    "    # Rename the columns in the dataframe\n",
    "    df.rename(columns=name_mapping, \n",
    "              inplace=True)\n",
    "    return df\n",
    "\n",
    "\n",
    "# run the function on each data frame\n",
    "demo_08 = rename_columns(df = demo_08, \n",
    "                         codebook = codebook_demo)\n",
    "demo_09 = rename_columns(df = demo_09, \n",
    "                         codebook = codebook_demo)\n",
    "demo_10 = rename_columns(df = demo_10, \n",
    "                         codebook = codebook_demo)"
   ]
  },
  {
   "cell_type": "markdown",
   "id": "eb6531dd",
   "metadata": {},
   "source": [
    "Now we'll examine summary information about the datasets, including the number of rows/columns, the data types of each variable, and the first few rows of each dataset."
   ]
  },
  {
   "cell_type": "code",
   "execution_count": 6,
   "id": "08eef84b",
   "metadata": {},
   "outputs": [
    {
     "name": "stdout",
     "output_type": "stream",
     "text": [
      "Dataset name: 2008 Beneficiary Summary File\n",
      "Number of rows: 116352\n",
      "Number of columns: 32\n",
      "Variable (column) names: ['person_id', 'birthdate', 'deathdate', 'sex', 'race', 'end_stage_renal_disease', 'state_code', 'county_code', 'months_part_a_coverage', 'months_part_b_coverage', 'months_hmo_coverage', 'months_part_d_coverage', 'dementia', 'heart_failure', 'kidney_disease', 'cancer', 'copd', 'depression', 'diabetes', 'ischemic_heart_disease', 'osteoporosis', 'arthritis', 'stroke', 'annual_inpatient_reimbursement', 'annual_inpatient_responsibility', 'annual_inpatient_primary_payer_reimbursement', 'annual_outpatient_reimbursement', 'annual_outpatient_responsibility', 'annual_outpatient_primary_payer_reimbursement', 'annual_carrier_reimbursement', 'annual_carrier_responsibility', 'annual_carrier_primary_payer_responsibility']\n",
      "\n",
      "Dataset name: 2009 Beneficiary Summary File\n",
      "Number of rows: 114538\n",
      "Number of columns: 32\n",
      "Variable (column) names: ['person_id', 'birthdate', 'deathdate', 'sex', 'race', 'end_stage_renal_disease', 'state_code', 'county_code', 'months_part_a_coverage', 'months_part_b_coverage', 'months_hmo_coverage', 'months_part_d_coverage', 'dementia', 'heart_failure', 'kidney_disease', 'cancer', 'copd', 'depression', 'diabetes', 'ischemic_heart_disease', 'osteoporosis', 'arthritis', 'stroke', 'annual_inpatient_reimbursement', 'annual_inpatient_responsibility', 'annual_inpatient_primary_payer_reimbursement', 'annual_outpatient_reimbursement', 'annual_outpatient_responsibility', 'annual_outpatient_primary_payer_reimbursement', 'annual_carrier_reimbursement', 'annual_carrier_responsibility', 'annual_carrier_primary_payer_responsibility']\n",
      "\n",
      "Dataset name: 2010 Beneficiary Summary File\n",
      "Number of rows: 112754\n",
      "Number of columns: 32\n",
      "Variable (column) names: ['person_id', 'birthdate', 'deathdate', 'sex', 'race', 'end_stage_renal_disease', 'state_code', 'county_code', 'months_part_a_coverage', 'months_part_b_coverage', 'months_hmo_coverage', 'months_part_d_coverage', 'dementia', 'heart_failure', 'kidney_disease', 'cancer', 'copd', 'depression', 'diabetes', 'ischemic_heart_disease', 'osteoporosis', 'arthritis', 'stroke', 'annual_inpatient_reimbursement', 'annual_inpatient_responsibility', 'annual_inpatient_primary_payer_reimbursement', 'annual_outpatient_reimbursement', 'annual_outpatient_responsibility', 'annual_outpatient_primary_payer_reimbursement', 'annual_carrier_reimbursement', 'annual_carrier_responsibility', 'annual_carrier_primary_payer_responsibility']\n",
      "\n"
     ]
    }
   ],
   "source": [
    "# Create a data dictionary with the Beneficiary Summary File names\n",
    "datasets = {\n",
    "    \"2008 Beneficiary Summary File\": demo_08,\n",
    "    \"2009 Beneficiary Summary File\": demo_09,\n",
    "    \"2010 Beneficiary Summary File\": demo_10\n",
    "}\n",
    "\n",
    "# Loop through each Beneficary Summary file to summarize the number of rows/columns.\n",
    "for name, data in datasets.items():\n",
    "    rows, cols = data.shape\n",
    "    print(f\"Dataset name: {name}\")\n",
    "    print(f\"Number of rows: {rows}\")\n",
    "    print(f\"Number of columns: {cols}\")\n",
    "    print(\"Variable (column) names:\", data.columns.tolist())\n",
    "    print(\"\") # add an extra space between output to improve clarity"
   ]
  },
  {
   "cell_type": "markdown",
   "id": "91431da6",
   "metadata": {},
   "source": [
    "Now we want to combine the three Beneficiary Summary files into a single file."
   ]
  },
  {
   "cell_type": "code",
   "execution_count": 24,
   "id": "3449677e",
   "metadata": {},
   "outputs": [
    {
     "name": "stdout",
     "output_type": "stream",
     "text": [
      "year\n",
      "2008    116352\n",
      "Name: count, dtype: int64\n",
      "year\n",
      "2009    114538\n",
      "Name: count, dtype: int64\n",
      "year\n",
      "2010    112754\n",
      "Name: count, dtype: int64\n"
     ]
    }
   ],
   "source": [
    "# first, create an indicator for the year\n",
    "for name, data in datasets.items():\n",
    "    # extract the year value as the first 4 digits\n",
    "    # save it as an integer\n",
    "    data[\"year\"] = int(name[0:4])\n",
    "\n",
    "# check to make sure the values were assigned correctly in each data frame\n",
    "print(demo_08['year'].value_counts())\n",
    "print(demo_09['year'].value_counts())\n",
    "print(demo_10['year'].value_counts())"
   ]
  },
  {
   "cell_type": "markdown",
   "id": "16ca5f58",
   "metadata": {},
   "source": [
    "Finally, we'll merge the three data frames into one so we can work with all of the data at once."
   ]
  },
  {
   "cell_type": "code",
   "execution_count": 25,
   "id": "58140410",
   "metadata": {},
   "outputs": [
    {
     "name": "stdout",
     "output_type": "stream",
     "text": [
      "-- Merged DataFrame --\n",
      "Number of rows: 343644\n",
      "Number of columns: 33\n",
      "Data types for each column:\n",
      "person_id                                         object\n",
      "birthdate                                          int64\n",
      "deathdate                                        float64\n",
      "sex                                                int64\n",
      "race                                               int64\n",
      "end_stage_renal_disease                           object\n",
      "state_code                                         int64\n",
      "county_code                                        int64\n",
      "months_part_a_coverage                             int64\n",
      "months_part_b_coverage                             int64\n",
      "months_hmo_coverage                                int64\n",
      "months_part_d_coverage                             int64\n",
      "dementia                                           int64\n",
      "heart_failure                                      int64\n",
      "kidney_disease                                     int64\n",
      "cancer                                             int64\n",
      "copd                                               int64\n",
      "depression                                         int64\n",
      "diabetes                                           int64\n",
      "ischemic_heart_disease                             int64\n",
      "osteoporosis                                       int64\n",
      "arthritis                                          int64\n",
      "stroke                                             int64\n",
      "annual_inpatient_reimbursement                   float64\n",
      "annual_inpatient_responsibility                  float64\n",
      "annual_inpatient_primary_payer_reimbursement     float64\n",
      "annual_outpatient_reimbursement                  float64\n",
      "annual_outpatient_responsibility                 float64\n",
      "annual_outpatient_primary_payer_reimbursement    float64\n",
      "annual_carrier_reimbursement                     float64\n",
      "annual_carrier_responsibility                    float64\n",
      "annual_carrier_primary_payer_responsibility      float64\n",
      "year                                               int64\n",
      "dtype: object\n"
     ]
    }
   ],
   "source": [
    "# merge the dataframes by concatenating them\n",
    "merged_demo = pd.concat([demo_08, demo_09, demo_10], \n",
    "                        ignore_index=True)\n",
    "\n",
    "# examine the merged data\n",
    "print(\"-- Merged DataFrame --\")\n",
    "print(f\"Number of rows: {merged_demo.shape[0]}\")\n",
    "print(f\"Number of columns: {merged_demo.shape[1]}\")\n",
    "print(\"Data types for each column:\")\n",
    "print(merged_demo.dtypes)"
   ]
  },
  {
   "cell_type": "markdown",
   "id": "96a7094b",
   "metadata": {},
   "source": [
    "# Variable recoding"
   ]
  },
  {
   "cell_type": "markdown",
   "id": "1b8c6d9d",
   "metadata": {},
   "source": [
    "First, we'll merge the US state name and abbreviation by the US state FIPS code that was already included in the Beneficiary Summary Files."
   ]
  },
  {
   "cell_type": "code",
   "execution_count": 26,
   "id": "50ddf987",
   "metadata": {},
   "outputs": [],
   "source": [
    "# load the US State FIPS code file\n",
    "fips = pd.read_excel(\"codebooks/Codebook_Beneficiary_Summary_File.xlsx\",\n",
    "                     sheet_name = \"State FIPS Codes\")\n",
    "\n",
    "# merge the `fips` data frame with the merged data\n",
    "merged_demo = pd.merge(merged_demo, \n",
    "                       fips, \n",
    "                       how='left', \n",
    "                       left_on='state_code', \n",
    "                       right_on='state_code')\n"
   ]
  },
  {
   "cell_type": "code",
   "execution_count": 27,
   "id": "f1594c17",
   "metadata": {},
   "outputs": [
    {
     "name": "stdout",
     "output_type": "stream",
     "text": [
      "-- State Summary --\n",
      "              State Name  Count\n",
      "13               Alabama   7603\n",
      "46                Alaska    719\n",
      "21               Arizona   5458\n",
      "0               Arkansas  30217\n",
      "17            California   5945\n",
      "41              Colorado   1454\n",
      "45           Connecticut    912\n",
      "1               Delaware  22888\n",
      "9   District of Columbia   8902\n",
      "39               Florida   1604\n",
      "37               Georgia   1985\n",
      "14                Hawaii   7380\n",
      "28                 Idaho   3866\n",
      "30              Illinois   3368\n",
      "19               Indiana   5510\n",
      "24                  Iowa   5047\n",
      "35                Kansas   2041\n",
      "22              Kentucky   5413\n",
      "12             Louisiana   7660\n",
      "6                  Maine  11846\n",
      "18              Maryland   5887\n",
      "27         Massachusetts   3939\n",
      "15              Michigan   7005\n",
      "42             Minnesota   1273\n",
      "34           Mississippi   2102\n",
      "33              Missouri   2475\n",
      "38               Montana   1899\n",
      "8               Nebraska   9379\n",
      "31                Nevada   3307\n",
      "3          New Hampshire  19258\n",
      "7             New Jersey  11603\n",
      "43            New Mexico   1235\n",
      "5               New York  12761\n",
      "25        North Carolina   4904\n",
      "23          North Dakota   5103\n",
      "4                   Ohio  15358\n",
      "36                Oregon   1996\n",
      "20          Pennsylvania   5461\n",
      "11          Rhode Island   8278\n",
      "2         South Carolina  19833\n",
      "32          South Dakota   2635\n",
      "44             Tennessee   1102\n",
      "10                  Utah   8537\n",
      "16               Vermont   6739\n",
      "29              Virginia   3412\n",
      "40            Washington   1476\n",
      "26         West Virginia   4817\n"
     ]
    }
   ],
   "source": [
    "# summarize the US states in the merged data in a table\n",
    "state_summary = merged_demo['state_name'].value_counts().reset_index()  \n",
    "state_summary.columns = ['State Name', \n",
    "                         'Count'] \n",
    "# sort the summary by count in descending order\n",
    "state_summary = state_summary.sort_values(by='State Name', \n",
    "                                          ascending=True)\n",
    "# display the state summary\n",
    "print(\"-- State Summary --\")\n",
    "print(state_summary)"
   ]
  },
  {
   "cell_type": "markdown",
   "id": "57d38ea2",
   "metadata": {},
   "source": [
    "Next, we'll recode birthdate variable to obtain an integer age value for the current year (2008, 2009, or 2010)."
   ]
  },
  {
   "cell_type": "code",
   "execution_count": 40,
   "id": "5236a4c7",
   "metadata": {},
   "outputs": [
    {
     "name": "stdout",
     "output_type": "stream",
     "text": [
      "-- Age Summary --\n",
      "count    343644.00\n",
      "mean         72.62\n",
      "std          12.56\n",
      "min          25.00\n",
      "25%          67.00\n",
      "50%          73.00\n",
      "75%          81.00\n",
      "max         101.00\n",
      "Name: age, dtype: float64\n",
      "\n",
      " -- First 10 Rows of the Age-related Columns --\n",
      "   year  birthdate  birth_year  age\n",
      "0  2008   19230501        1923   85\n",
      "1  2008   19430101        1943   65\n",
      "2  2008   19360901        1936   72\n",
      "3  2008   19410601        1941   67\n",
      "4  2008   19360801        1936   72\n",
      "5  2008   19431001        1943   65\n",
      "6  2008   19220701        1922   86\n",
      "7  2008   19350901        1935   73\n",
      "8  2008   19760901        1976   32\n",
      "9  2008   19381001        1938   70\n"
     ]
    }
   ],
   "source": [
    "# create a new variable named `age` that is the age of the beneficiary\n",
    "# first, extract the year from the birthdate column\n",
    "merged_demo['birth_year'] = merged_demo['birthdate'] // 10000\n",
    "# next, subtract the birth year from the year to get their current age\n",
    "merged_demo['age'] = merged_demo['year'] - merged_demo['birth_year']\n",
    "\n",
    "# check that the values were assigned correctly\n",
    "print(\"-- Age Summary --\") \n",
    "print(merged_demo['age'].describe().round(2))\n",
    "\n",
    "# print the first 10 rows of the relevant columns\n",
    "print(\"\\n\", \"-- First 10 Rows of the Age-related Columns --\")\n",
    "print(merged_demo[['year', 'birthdate', 'birth_year', 'age']].head(10))"
   ]
  },
  {
   "cell_type": "markdown",
   "id": "aaf24633",
   "metadata": {},
   "source": [
    "Now we will recode values of the race/ethnicity and sex into categorical format."
   ]
  },
  {
   "cell_type": "code",
   "execution_count": 44,
   "id": "2f64ec0d",
   "metadata": {},
   "outputs": [],
   "source": [
    "# Sex recoding\n",
    "merged_demo['sex'] = merged_demo['sex'].replace({1: 'Male', \n",
    "                                                 2: 'Female'}).astype('category')\n",
    "# Race/ethnicity recoding\n",
    "merged_demo['race'] = merged_demo['race'].replace({1: 'White', \n",
    "                                                   2: 'Black',\n",
    "                                                   3: 'Other race',\n",
    "                                                   5: 'Hispanic'}).astype('category')"
   ]
  },
  {
   "cell_type": "code",
   "execution_count": 52,
   "id": "59a21492",
   "metadata": {},
   "outputs": [
    {
     "name": "stdout",
     "output_type": "stream",
     "text": [
      "sex\n",
      "Female    190059\n",
      "Male      153585\n",
      "Name: count, dtype: int64 \n",
      "\n",
      " race\n",
      "White         284514\n",
      "Black          36459\n",
      "Other race     14591\n",
      "Hispanic        8080\n",
      "Name: count, dtype: int64\n"
     ]
    }
   ],
   "source": [
    "# Check that the new values are coded correctly\n",
    "print(merged_demo['sex'].value_counts(),\n",
    "      \"\\n\\n\",\n",
    "      merged_demo['race'].value_counts())"
   ]
  },
  {
   "cell_type": "markdown",
   "id": "8a5baa7b",
   "metadata": {},
   "source": [
    "Finally, we will recode the health condition columns so that the values have categorical values. For each, 1 = Yes and 2 = No."
   ]
  },
  {
   "cell_type": "code",
   "execution_count": 59,
   "id": "4876d9fe",
   "metadata": {},
   "outputs": [
    {
     "data": {
      "text/plain": [
       "['person_id',\n",
       " 'birthdate',\n",
       " 'deathdate',\n",
       " 'sex',\n",
       " 'race',\n",
       " 'end_stage_renal_disease',\n",
       " 'state_code',\n",
       " 'county_code',\n",
       " 'months_part_a_coverage',\n",
       " 'months_part_b_coverage',\n",
       " 'months_hmo_coverage',\n",
       " 'months_part_d_coverage',\n",
       " 'dementia',\n",
       " 'heart_failure',\n",
       " 'kidney_disease',\n",
       " 'cancer',\n",
       " 'copd',\n",
       " 'depression',\n",
       " 'diabetes',\n",
       " 'ischemic_heart_disease',\n",
       " 'osteoporosis',\n",
       " 'arthritis',\n",
       " 'stroke',\n",
       " 'annual_inpatient_reimbursement',\n",
       " 'annual_inpatient_responsibility',\n",
       " 'annual_inpatient_primary_payer_reimbursement',\n",
       " 'annual_outpatient_reimbursement',\n",
       " 'annual_outpatient_responsibility',\n",
       " 'annual_outpatient_primary_payer_reimbursement',\n",
       " 'annual_carrier_reimbursement',\n",
       " 'annual_carrier_responsibility',\n",
       " 'annual_carrier_primary_payer_responsibility',\n",
       " 'year',\n",
       " 'state_name',\n",
       " 'state_abbrev',\n",
       " 'birth_year',\n",
       " 'age']"
      ]
     },
     "execution_count": 59,
     "metadata": {},
     "output_type": "execute_result"
    }
   ],
   "source": [
    "# grab the column names from the merged data to see which conditions are available\n",
    "merged_demo.columns.tolist()"
   ]
  },
  {
   "cell_type": "code",
   "execution_count": 62,
   "id": "0b3b16d8",
   "metadata": {},
   "outputs": [
    {
     "name": "stdout",
     "output_type": "stream",
     "text": [
      "\n",
      "-- Conditions Summary --\n",
      "dementia\n",
      "No     276141\n",
      "Yes     67503\n",
      "Name: count, dtype: int64\n",
      "\n",
      "heart_failure\n",
      "No     241892\n",
      "Yes    101752\n",
      "Name: count, dtype: int64\n",
      "\n",
      "kidney_disease\n",
      "No     285621\n",
      "Yes     58023\n",
      "Name: count, dtype: int64\n",
      "\n",
      "cancer\n",
      "No     321160\n",
      "Yes     22484\n",
      "Name: count, dtype: int64\n",
      "\n",
      "copd\n",
      "No     299871\n",
      "Yes     43773\n",
      "Name: count, dtype: int64\n",
      "\n",
      "depression\n",
      "No     270677\n",
      "Yes     72967\n",
      "Name: count, dtype: int64\n",
      "\n",
      "diabetes\n",
      "No     218897\n",
      "Yes    124747\n",
      "Name: count, dtype: int64\n",
      "\n",
      "ischemic_heart_disease\n",
      "No     197936\n",
      "Yes    145708\n",
      "Name: count, dtype: int64\n",
      "\n",
      "osteoporosis\n",
      "No     286868\n",
      "Yes     56776\n",
      "Name: count, dtype: int64\n",
      "\n",
      "arthritis\n",
      "No     294822\n",
      "Yes     48822\n",
      "Name: count, dtype: int64\n",
      "\n",
      "stroke\n",
      "No     329440\n",
      "Yes     14204\n",
      "Name: count, dtype: int64\n",
      "\n"
     ]
    }
   ],
   "source": [
    "conditions = ['dementia', 'heart_failure', 'kidney_disease',\n",
    "              'cancer', 'copd', 'depression', \n",
    "              'diabetes', 'ischemic_heart_disease', 'osteoporosis',\n",
    "              'arthritis', 'stroke']\n",
    "\n",
    "for condition in conditions:\n",
    "    merged_demo[condition] = merged_demo[condition].replace({1: 'Yes',\n",
    "                                                             2: 'No'}).astype('category')\n",
    "# Check that the new values are coded correctly \n",
    "print(\"\\n-- Conditions Summary --\")\n",
    "for condition in conditions:\n",
    "    print(merged_demo[condition].value_counts())\n",
    "    print(\"\")  # Add a newline for better readability\n"
   ]
  },
  {
   "cell_type": "markdown",
   "id": "e2e7b2ba",
   "metadata": {},
   "source": [
    "# Initial data explorations"
   ]
  },
  {
   "cell_type": "markdown",
   "id": "1165a08f",
   "metadata": {},
   "source": [
    "## Examine distribution of health conditions by year"
   ]
  },
  {
   "cell_type": "markdown",
   "id": "ffb79fd5",
   "metadata": {},
   "source": [
    "Now we will examine health conditions (e.g., diabetes, cancer) in the Beneficiary Summary Files by year (2008-2010)."
   ]
  },
  {
   "cell_type": "code",
   "execution_count": 80,
   "id": "c787582c",
   "metadata": {},
   "outputs": [],
   "source": [
    "# First, create a function to get the row percentages of a crosstab\n",
    "def get_row_percent_crosstab(df, condition_col, row_var='year'):\n",
    "    # Create the crosstab\n",
    "    crosstab = pd.crosstab(df[row_var], df[condition_col])\n",
    "\n",
    "    # Calculate row percentages\n",
    "    row_percentages = crosstab.div(crosstab.sum(axis=1), axis=0) * 100\n",
    "\n",
    "    # Add total percentage column (should always be 100, but nice for validation)\n",
    "    row_percentages['Total'] = row_percentages.sum(axis=1)\n",
    "\n",
    "    return row_percentages"
   ]
  },
  {
   "cell_type": "code",
   "execution_count": null,
   "id": "cac9b99d",
   "metadata": {},
   "outputs": [
    {
     "name": "stdout",
     "output_type": "stream",
     "text": [
      "\n",
      "--- DEMENTIA Crosstab ---\n",
      "dementia         No        Yes  Total\n",
      "year                                 \n",
      "2008      80.739480  19.260520  100.0\n",
      "2009      76.947389  23.052611  100.0\n",
      "2010      83.424978  16.575022  100.0\n",
      "\n",
      "--- HEART_FAILURE Crosstab ---\n",
      "heart_failure         No        Yes  Total\n",
      "year                                      \n",
      "2008           71.504572  28.495428  100.0\n",
      "2009           65.567759  34.432241  100.0\n",
      "2010           74.139277  25.860723  100.0\n",
      "\n",
      "--- KIDNEY_DISEASE Crosstab ---\n",
      "kidney_disease         No        Yes  Total\n",
      "year                                       \n",
      "2008            83.940113  16.059887  100.0\n",
      "2009            79.292462  20.707538  100.0\n",
      "2010            86.147720  13.852280  100.0\n",
      "\n",
      "--- CANCER Crosstab ---\n",
      "cancer         No       Yes  Total\n",
      "year                              \n",
      "2008    93.627097  6.372903  100.0\n",
      "2009    91.848993  8.151007  100.0\n",
      "2010    94.915480  5.084520  100.0\n",
      "\n",
      "--- COPD Crosstab ---\n",
      "copd         No        Yes  Total\n",
      "year                             \n",
      "2008  86.469506  13.530494  100.0\n",
      "2009  84.350172  15.649828  100.0\n",
      "2010  91.038012   8.961988  100.0\n",
      "\n",
      "--- DEPRESSION Crosstab ---\n",
      "depression         No        Yes  Total\n",
      "year                                   \n",
      "2008        78.650990  21.349010  100.0\n",
      "2009        75.479753  24.520247  100.0\n",
      "2010        82.225021  17.774979  100.0\n",
      "\n",
      "--- DIABETES Crosstab ---\n",
      "diabetes         No        Yes  Total\n",
      "year                                 \n",
      "2008      62.132151  37.867849  100.0\n",
      "2009      58.346575  41.653425  100.0\n",
      "2010      70.752257  29.247743  100.0\n",
      "\n",
      "--- ISCHEMIC_HEART_DISEASE Crosstab ---\n",
      "ischemic_heart_disease         No        Yes  Total\n",
      "year                                               \n",
      "2008                    57.936262  42.063738  100.0\n",
      "2009                    52.329358  47.670642  100.0\n",
      "2010                    62.604431  37.395569  100.0\n",
      "\n",
      "--- OSTEOPOROSIS Crosstab ---\n",
      "osteoporosis         No        Yes  Total\n",
      "year                                     \n",
      "2008          82.658656  17.341344  100.0\n",
      "2009          80.872723  19.127277  100.0\n",
      "2010          86.970750  13.029250  100.0\n",
      "\n",
      "--- ARTHRITIS Crosstab ---\n",
      "arthritis         No        Yes  Total\n",
      "year                                  \n",
      "2008       84.601898  15.398102  100.0\n",
      "2009       82.543785  17.456215  100.0\n",
      "2010       90.322295   9.677705  100.0\n",
      "\n",
      "--- STROKE Crosstab ---\n",
      "stroke         No       Yes  Total\n",
      "year                              \n",
      "2008    95.511035  4.488965  100.0\n",
      "2009    94.735372  5.264628  100.0\n",
      "2010    97.382798  2.617202  100.0\n"
     ]
    }
   ],
   "source": [
    "# Store results in a dictionary\n",
    "crosstab_results = {}\n",
    "\n",
    "# Loop through each condition and calculate the row percentage crosstab\n",
    "for condition in conditions:\n",
    "    crosstab_results[condition] = get_row_percent_crosstab(merged_demo, condition)\n",
    "\n",
    "# Print all results\n",
    "for condition, table in crosstab_results.items():\n",
    "    print(f\"\\n--- {condition.upper()} Crosstab ---\")\n",
    "    print(table)"
   ]
  },
  {
   "cell_type": "markdown",
   "id": "202cf694",
   "metadata": {},
   "source": [
    "## Examine the age distribution"
   ]
  },
  {
   "cell_type": "markdown",
   "id": "22aa9f35",
   "metadata": {},
   "source": [
    "First, we'll create a histogram."
   ]
  },
  {
   "cell_type": "code",
   "execution_count": 110,
   "id": "8c17de51",
   "metadata": {},
   "outputs": [
    {
     "data": {
      "image/png": "[encoded data removed]",
      "text/plain": [
       "<Figure size 1000x600 with 1 Axes>"
      ]
     },
     "metadata": {},
     "output_type": "display_data"
    }
   ],
   "source": [
    "# examine the distribution of the age variable for 2008 using matplotlib\n",
    "plt.figure(figsize=(10, 6))\n",
    "plt.hist(merged_demo[merged_demo['year'] == 2008]['age'], \n",
    "         bins=20, \n",
    "         color='skyblue', \n",
    "         edgecolor='black')\n",
    "plt.title('Age Distribution of Medicare Beneficiaries in 2008')\n",
    "plt.xlim(20, 105)\n",
    "plt.xlabel('Age')\n",
    "plt.ylabel('Count')\n",
    "plt.show()"
   ]
  },
  {
   "cell_type": "markdown",
   "id": "49ff2751",
   "metadata": {},
   "source": [
    "Next, we'll create a density plot."
   ]
  },
  {
   "cell_type": "code",
   "execution_count": 111,
   "id": "b46422e5",
   "metadata": {},
   "outputs": [
    {
     "data": {
      "image/png": "[encoded data removed]",
      "text/plain": [
       "<Figure size 1000x600 with 1 Axes>"
      ]
     },
     "metadata": {},
     "output_type": "display_data"
    }
   ],
   "source": [
    "# create a density plot for the age distribution in 2008\n",
    "plt.figure(figsize=(10, 6))\n",
    "sns.kdeplot(data=merged_demo[merged_demo['year'] == 2008], x='age', fill=True)\n",
    "plt.title(\"Density Plot of Age for Medicare Beneficiaries in 2008\")\n",
    "plt.xlim(20, 105)\n",
    "plt.xlabel(\"Age\")\n",
    "plt.ylabel(\"Density\")\n",
    "plt.show()"
   ]
  }
 ],
 "metadata": {
  "kernelspec": {
   "display_name": "env",
   "language": "python",
   "name": "python3"
  },
  "language_info": {
   "codemirror_mode": {
    "name": "ipython",
    "version": 3
   },
   "file_extension": ".py",
   "mimetype": "text/x-python",
   "name": "python",
   "nbconvert_exporter": "python",
   "pygments_lexer": "ipython3",
   "version": "3.10.11"
  }
 },
 "nbformat": 4,
 "nbformat_minor": 5
}
