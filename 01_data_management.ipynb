{
 "cells": [
  {
   "cell_type": "markdown",
   "id": "b3cf76ab",
   "metadata": {},
   "source": [
    "# Purpose\n",
    "The purpose of this file is to clean and manage data the 2008-2010 Medicare Claims Synthetic Public Use Files (SynPUFs)."
   ]
  },
  {
   "cell_type": "markdown",
   "id": "e120539d",
   "metadata": {},
   "source": [
    "# Setup\n",
    "First, we'll import the packages we'll need for data management tasks."
   ]
  },
  {
   "cell_type": "code",
   "execution_count": null,
   "id": "d2b27f47",
   "metadata": {},
   "outputs": [],
   "source": [
    "# import packages\n",
    "import pandas as pd\n",
    "import numpy as np"
   ]
  },
  {
   "cell_type": "markdown",
   "id": "05b8b541",
   "metadata": {},
   "source": [
    "Next, we will load the Beneficiary Summary files () into Python. Each file is separated by year (2008, 2009, 2010)."
   ]
  },
  {
   "cell_type": "code",
   "execution_count": null,
   "id": "ddcba1e4",
   "metadata": {},
   "outputs": [],
   "source": [
    "# load the Beneficiary Summary files\n",
    "demo_08 = pd.read_csv(\"data/2008_Beneficiary_Summary_File_Sample_1.csv\")\n",
    "demo_09 = pd.read_csv(\"data/2009_Beneficiary_Summary_File_Sample_1.csv\")\n",
    "demo_10 = pd.read_csv(\"data/2010_Beneficiary_Summary_File_Sample_1.csv\")"
   ]
  },
  {
   "cell_type": "markdown",
   "id": "eb6531dd",
   "metadata": {},
   "source": [
    "Now we'll examine summary information about the datasets, including the number of rows/columns, the data types of each variable, and the first few rows of each dataset."
   ]
  },
  {
   "cell_type": "code",
   "execution_count": null,
   "id": "08eef84b",
   "metadata": {},
   "outputs": [],
   "source": [
    "# Create a data dictionary with the Beneficiary Summary File names\n",
    "datasets = {\n",
    "    \"2008 Beneficiary Summary File\": demo_08,\n",
    "    \"2009 Beneficiary Summary File\": demo_09,\n",
    "    \"2010 Beneficiary Summary File\": demo_10\n",
    "}\n",
    "\n",
    "# Loop through each Beneficary Summary file to summarize the number of rows/columns.\n",
    "for name, data in datasets.items():\n",
    "    rows, cols = data.shape\n",
    "    print(f\"Dataset name: {name}\")\n",
    "    print(f\"Number of rows: {rows}\")\n",
    "    print(f\"Number of columns: {cols}\")\n",
    "    print(\"Variable (column) names:\", data.columns.tolist())\n",
    "    print(\"\") # add an extra space between output to improve clarity"
   ]
  },
  {
   "cell_type": "markdown",
   "id": "91431da6",
   "metadata": {},
   "source": [
    "Now we want to combine the three Beneficiary Summary files into a single file."
   ]
  },
  {
   "cell_type": "code",
   "execution_count": null,
   "id": "3449677e",
   "metadata": {},
   "outputs": [],
   "source": [
    "# first, create an indicator for the year\n",
    "for name, data in datasets.items():\n",
    "    # extract the year value as the first 4 digits\n",
    "    data[\"year\"] = name[0:4]"
   ]
  },
  {
   "cell_type": "code",
   "execution_count": null,
   "id": "b1eefd9c",
   "metadata": {},
   "outputs": [],
   "source": [
    "demo_08.head()"
   ]
  },
  {
   "cell_type": "code",
   "execution_count": null,
   "id": "e23fb772",
   "metadata": {},
   "outputs": [],
   "source": [
    "categorical_vars = {\n",
    "    \"BENE_RACE_CD\": \"Race/ethnicity\",\n",
    "    \"BENE_SEX_IDENT_CD\": \"Sex\",\n",
    "    \"SP_STATE_CODE\": \"US State FIPS Code\"\n",
    "}\n",
    "\n",
    "for var, label in categorical_vars.items():\n",
    "    summary = demo_08[var].value_counts().sort_index()  # sort by category label\n",
    "    print(f\"{label} ({var}):\")\n",
    "    print(summary)\n",
    "    print(\"\\n\")"
   ]
  }
 ],
 "metadata": {
  "kernelspec": {
   "display_name": "env",
   "language": "python",
   "name": "python3"
  },
  "language_info": {
   "codemirror_mode": {
    "name": "ipython",
    "version": 3
   },
   "file_extension": ".py",
   "mimetype": "text/x-python",
   "name": "python",
   "nbconvert_exporter": "python",
   "pygments_lexer": "ipython3",
   "version": "3.10.11"
  }
 },
 "nbformat": 4,
 "nbformat_minor": 5
}
